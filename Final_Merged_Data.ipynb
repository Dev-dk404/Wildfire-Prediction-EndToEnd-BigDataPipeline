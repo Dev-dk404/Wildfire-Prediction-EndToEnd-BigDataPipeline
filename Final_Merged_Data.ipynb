{
 "cells": [
  {
   "cell_type": "markdown",
   "id": "fa231eae-d496-4393-ac38-69ee4338c5f6",
   "metadata": {},
   "source": [
    "# Step 1: Load the Dataset\n"
   ]
  },
  {
   "cell_type": "code",
   "execution_count": null,
   "id": "cd3169d3-d2ad-4fa8-b02a-a949b8128e86",
   "metadata": {},
   "outputs": [],
   "source": [
    "import pandas as pd"
   ]
  },
  {
   "cell_type": "markdown",
   "id": "f393e12c-b271-494f-be36-7d85ec12d32d",
   "metadata": {},
   "source": [
    "#### Load the unstructured dataset (wildfire data)"
   ]
  },
  {
   "cell_type": "code",
   "execution_count": null,
   "id": "f37a072c-e806-4d74-8d45-8b7c44f5a798",
   "metadata": {},
   "outputs": [],
   "source": [
    "unstructured_file = \"cleaned_unstructured_data.csv\"  \n",
    "try:\n",
    "    unstructured_df = pd.read_csv(unstructured_file)\n",
    "except FileNotFoundError:\n",
    "    print(f\"Error: Unstructured data file '{unstructured_file}' not found.\")\n",
    "    exit()\n"
   ]
  },
  {
   "cell_type": "markdown",
   "id": "b0517603-2ffa-471b-8d6b-5c405e140967",
   "metadata": {},
   "source": [
    "#### Load the structured dataset (weather and fire metadata)"
   ]
  },
  {
   "cell_type": "code",
   "execution_count": null,
   "id": "d8ff14df-1813-4d8b-8c64-d093c2c7598d",
   "metadata": {},
   "outputs": [],
   "source": [
    "structured_file = \"structured.csv\" \n",
    "try:\n",
    "    structured_df = pd.read_csv(structured_file)\n",
    "except FileNotFoundError:\n",
    "    print(f\"Error: Structured data file '{structured_file}' not found.\")\n",
    "    exit()\n",
    "\n",
    "# Print columns for debugging\n",
    "print(\"Unstructured dataset columns:\", unstructured_df.columns.tolist())\n",
    "print(\"Structured dataset columns:\", structured_df.columns.tolist())"
   ]
  },
  {
   "cell_type": "markdown",
   "id": "8488aa16-08fc-4420-af29-7d1f5055a51d",
   "metadata": {},
   "source": [
    "# Step 2: Prepare the Datasets for Merging"
   ]
  },
  {
   "cell_type": "markdown",
   "id": "97a5170b-f052-4638-95f8-99161a58fbb4",
   "metadata": {},
   "source": [
    "#### Verify required columns in unstructured dataset"
   ]
  },
  {
   "cell_type": "code",
   "execution_count": null,
   "id": "cb25b9f2-bdab-44fb-b90d-6e188adbec2b",
   "metadata": {},
   "outputs": [],
   "source": [
    "unstructured_required = [\"latitude\", \"longitude\", \"acq_date\", \"frp\", \"bright_ti4\", \"confidence\", \"daynight\"]\n",
    "missing_unstructured = [col for col in unstructured_required if col not in unstructured_df.columns]\n",
    "if missing_unstructured:\n",
    "    print(f\"Error: Missing required columns in unstructured dataset: {missing_unstructured}\")\n",
    "    exit()"
   ]
  },
  {
   "cell_type": "markdown",
   "id": "72837adb-aeef-43a7-9c3f-686506306763",
   "metadata": {},
   "source": [
    "#### Verify required columns in structured dataset"
   ]
  },
  {
   "cell_type": "code",
   "execution_count": null,
   "id": "25089d61-2e7c-4e9b-ad55-0c10cf1f8913",
   "metadata": {},
   "outputs": [],
   "source": [
    "structured_required = [\"latitude\", \"longitude\", \"disc_clean_date\", \"Temp_cont\", \"Temp_pre_7\", \"Temp_pre_15\", \"Temp_pre_30\",\n",
    "                       \"Prec_cont\", \"Prec_pre_7\", \"Prec_pre_15\", \"Prec_pre_30\",\n",
    "                       \"Wind_cont\", \"Wind_pre_7\", \"Wind_pre_15\", \"Wind_pre_30\",\n",
    "                       \"Hum_cont\", \"Hum_pre_7\", \"Hum_pre_15\", \"Hum_pre_30\", \"state\"]\n",
    "missing_structured = [col for col in structured_required if col not in structured_df.columns]\n",
    "if missing_structured:\n",
    "    print(f\"Error: Missing required columns in structured dataset: {missing_structured}\")\n",
    "    exit()\n"
   ]
  },
  {
   "cell_type": "markdown",
   "id": "080e4c4b-a32f-4e1c-84c1-5ac22fe7bcae",
   "metadata": {},
   "source": [
    "#### Convert date columns to datetime"
   ]
  },
  {
   "cell_type": "code",
   "execution_count": null,
   "id": "17ca5aa8-f1f0-4fb8-a3de-8631640b8525",
   "metadata": {},
   "outputs": [],
   "source": [
    "try:\n",
    "    unstructured_df[\"acq_date\"] = pd.to_datetime(unstructured_df[\"acq_date\"])\n",
    "except ValueError as e:\n",
    "    print(f\"Error converting 'acq_date' in unstructured dataset to datetime: {e}\")\n",
    "    print(\"Sample values:\", unstructured_df[\"acq_date\"].head().tolist())\n",
    "    exit()\n",
    "\n",
    "try:\n",
    "    structured_df[\"disc_clean_date\"] = pd.to_datetime(structured_df[\"disc_clean_date\"])\n",
    "except ValueError as e:\n",
    "    print(f\"Error converting 'disc_clean_date' in structured dataset to datetime: {e}\")\n",
    "    print(\"Sample values:\", structured_df[\"disc_clean_date\"].head().tolist())\n",
    "    exit()\n"
   ]
  },
  {
   "cell_type": "markdown",
   "id": "278211ac-ee93-43f5-8237-e8c27edbf651",
   "metadata": {},
   "source": [
    "#### Extract year and month for matching"
   ]
  },
  {
   "cell_type": "code",
   "execution_count": null,
   "id": "5cf254e4-b00a-4d32-b11b-2f9940c3796f",
   "metadata": {},
   "outputs": [],
   "source": [
    "unstructured_df[\"year\"] = unstructured_df[\"acq_date\"].dt.year\n",
    "unstructured_df[\"month\"] = unstructured_df[\"acq_date\"].dt.month\n",
    "structured_df[\"year\"] = structured_df[\"disc_clean_date\"].dt.year\n",
    "structured_df[\"month\"] = structured_df[\"disc_clean_date\"].dt.month"
   ]
  },
  {
   "cell_type": "markdown",
   "id": "879c7418-f4b5-4196-ac6d-7f10d7c31d45",
   "metadata": {},
   "source": [
    "#### Round latitude and longitude to 1 decimal place to increase matches"
   ]
  },
  {
   "cell_type": "code",
   "execution_count": null,
   "id": "b351312f-0f31-497d-ab35-6be17b070f84",
   "metadata": {},
   "outputs": [],
   "source": [
    "unstructured_df[\"latitude\"] = unstructured_df[\"latitude\"].round(1)\n",
    "unstructured_df[\"longitude\"] = unstructured_df[\"longitude\"].round(1)\n",
    "structured_df[\"latitude\"] = structured_df[\"latitude\"].round(1)\n",
    "structured_df[\"longitude\"] = structured_df[\"longitude\"].round(1)"
   ]
  },
  {
   "cell_type": "markdown",
   "id": "008fb047-5c79-4357-81ea-d912bc1abc65",
   "metadata": {},
   "source": [
    "# Step 3: Merge the Datasets on year, month, latitude, and longitude"
   ]
  },
  {
   "cell_type": "code",
   "execution_count": null,
   "id": "5e93bf09-641b-43bc-9930-4d5a6ece7ef4",
   "metadata": {},
   "outputs": [],
   "source": [
    "merged_df = pd.merge(\n",
    "    unstructured_df,\n",
    "    structured_df,\n",
    "    on=[\"year\", \"month\", \"latitude\", \"longitude\"],\n",
    "    how=\"inner\"  \n",
    ")\n",
    "print(f\"Number of rows after merging: {len(merged_df)}\")"
   ]
  },
  {
   "cell_type": "markdown",
   "id": "273871c9-e765-4398-a664-8445eb405069",
   "metadata": {},
   "source": [
    "#### Check if the merge resulted in enough rows"
   ]
  },
  {
   "cell_type": "code",
   "execution_count": null,
   "id": "57a756f3-2a0b-48d4-97a7-1ec66299dc35",
   "metadata": {},
   "outputs": [],
   "source": [
    "if len(merged_df) < 10000:\n",
    "    print(\"Error: Merged dataset has fewer than 10,000 rows. Further adjust rounding precision or check data overlap.\")\n",
    "    print(\"Sample 'year' in unstructured dataset:\", unstructured_df[\"year\"].head().tolist())\n",
    "    print(\"Sample 'month' in unstructured dataset:\", unstructured_df[\"month\"].head().tolist())\n",
    "    print(\"Sample 'year' in structured dataset:\", structured_df[\"year\"].head().tolist())\n",
    "    print(\"Sample 'month' in structured dataset:\", structured_df[\"month\"].head().tolist())\n",
    "    exit()"
   ]
  },
  {
   "cell_type": "markdown",
   "id": "8ea32621-2936-4fbd-8418-195cf3d03a15",
   "metadata": {},
   "source": [
    "# Step 4: Rename Weather Columns"
   ]
  },
  {
   "cell_type": "code",
   "execution_count": null,
   "id": "d63ed482-4f05-44ba-80af-ab6a85d2df07",
   "metadata": {},
   "outputs": [],
   "source": [
    "column_mapping = {\n",
    "    \"Temp_cont\": \"temperature\",\n",
    "    \"Temp_pre_7\": \"temperature_7d\",\n",
    "    \"Temp_pre_15\": \"temperature_15d\",\n",
    "    \"Temp_pre_30\": \"temperature_30d\",\n",
    "    \"Prec_cont\": \"precipitation\",\n",
    "    \"Prec_pre_7\": \"precipitation_7d\",\n",
    "    \"Prec_pre_15\": \"precipitation_15d\",\n",
    "    \"Prec_pre_30\": \"precipitation_30d\",\n",
    "    \"Wind_cont\": \"wind_speed\",\n",
    "    \"Wind_pre_7\": \"wind_speed_7d\",\n",
    "    \"Wind_pre_15\": \"wind_speed_15d\",\n",
    "    \"Wind_pre_30\": \"wind_speed_30d\",\n",
    "    \"Hum_cont\": \"humidity\",\n",
    "    \"Hum_pre_7\": \"humidity_7d\",\n",
    "    \"Hum_pre_15\": \"humidity_15d\",\n",
    "    \"Hum_pre_30\": \"humidity_30d\"\n",
    "}\n",
    "\n",
    "merged_df = merged_df.rename(columns=column_mapping)"
   ]
  },
  {
   "cell_type": "markdown",
   "id": "6eb4b955-0aed-4841-8fd5-7410d7c2e249",
   "metadata": {},
   "source": [
    "# Step 5: Select Specified Columns"
   ]
  },
  {
   "cell_type": "code",
   "execution_count": null,
   "id": "8b7d1fa0-358f-4bba-8059-ff8801da0a93",
   "metadata": {},
   "outputs": [],
   "source": [
    "required_columns = [\n",
    "    \"acq_date\", \"latitude\", \"longitude\",\n",
    "    \"frp\", \"bright_ti4\", \"confidence\", \"daynight\", \"state\",\n",
    "    \"temperature\", \"temperature_7d\", \"temperature_15d\", \"temperature_30d\",\n",
    "    \"precipitation\", \"precipitation_7d\", \"precipitation_15d\", \"precipitation_30d\",\n",
    "    \"wind_speed\", \"wind_speed_7d\", \"wind_speed_15d\", \"wind_speed_30d\",\n",
    "    \"humidity\", \"humidity_7d\", \"humidity_15d\", \"humidity_30d\"\n",
    "]\n"
   ]
  },
  {
   "cell_type": "markdown",
   "id": "dda71878-1dc2-454c-ac5f-475d63c7aa9f",
   "metadata": {},
   "source": [
    "#### Since we merged on year and month, acq_date_x should exist; rename it to acq_date"
   ]
  },
  {
   "cell_type": "code",
   "execution_count": null,
   "id": "c3b88b02-29fa-40ae-ac61-17157c19b3dc",
   "metadata": {},
   "outputs": [],
   "source": [
    "if \"acq_date_x\" in merged_df.columns:\n",
    "    merged_df = merged_df.rename(columns={\"acq_date_x\": \"acq_date\"})\n",
    "else:\n",
    "    print(\"Error: 'acq_date_x' not found in merged dataset. Available columns:\", merged_df.columns.tolist())\n",
    "    exit()"
   ]
  },
  {
   "cell_type": "markdown",
   "id": "781810db-d91f-4280-aedb-4e71bc207653",
   "metadata": {},
   "source": [
    "#### Verify that all required columns are present"
   ]
  },
  {
   "cell_type": "code",
   "execution_count": null,
   "id": "32f120ed-8fc3-45cd-bf8c-4ca0abeabf76",
   "metadata": {},
   "outputs": [],
   "source": [
    "missing_cols = [col for col in required_columns if col not in merged_df.columns]\n",
    "if missing_cols:\n",
    "    print(f\"Error: Missing required columns in merged dataset: {missing_cols}\")\n",
    "    exit()"
   ]
  },
  {
   "cell_type": "markdown",
   "id": "00d6a420-69d8-4e38-9726-1fd36ea1da0d",
   "metadata": {},
   "source": [
    "#### Create the final merged dataset with only the specified columns"
   ]
  },
  {
   "cell_type": "code",
   "execution_count": null,
   "id": "a6334d2e-d55b-4fdb-b920-b198147acef5",
   "metadata": {},
   "outputs": [],
   "source": [
    "final_df = merged_df[required_columns]"
   ]
  },
  {
   "cell_type": "markdown",
   "id": "5d773e18-d54d-4004-8d4d-06d79caf4368",
   "metadata": {},
   "source": [
    "# Step 6: Save the Merged Dataset"
   ]
  },
  {
   "cell_type": "code",
   "execution_count": 2,
   "id": "7eb84db5-f9e8-49e9-bea6-43a18b01d346",
   "metadata": {},
   "outputs": [
    {
     "name": "stderr",
     "output_type": "stream",
     "text": [
      "C:\\Users\\tw9520gi\\AppData\\Local\\Temp\\ipykernel_11980\\3543828047.py:8: DtypeWarning: Columns (10,16) have mixed types. Specify dtype option on import or set low_memory=False.\n",
      "  unstructured_df = pd.read_csv(unstructured_file)\n"
     ]
    },
    {
     "name": "stdout",
     "output_type": "stream",
     "text": [
      "Unstructured dataset columns: ['latitude', 'longitude', 'brightness', 'scan', 'track', 'acq_date', 'acq_time', 'satellite', 'instrument', 'confidence', 'version', 'bright_t31', 'frp', 'daynight', 'bright_ti4', 'bright_ti5', 'type']\n",
      "Structured dataset columns: ['latitude', 'longitude', 'Temp_pre_30', 'Temp_pre_15', 'Temp_pre_7', 'Temp_cont', 'Wind_pre_30', 'Wind_pre_15', 'Wind_pre_7', 'Wind_cont', 'Hum_pre_30', 'Hum_pre_15', 'Hum_pre_7', 'Hum_cont', 'Prec_pre_30', 'Prec_pre_15', 'Prec_pre_7', 'Prec_cont', 'fire_size', 'state', 'discovery_month', 'putout_time', 'disc_pre_year', 'disc_pre_month', 'stat_cause_descr', 'Unnamed: 0', 'fire_name', 'fire_size_class', 'disc_clean_date', 'cont_clean_date', 'wstation_usaf']\n",
      "Number of rows after merging: 285554\n",
      "Error: 'acq_date_x' not found in merged dataset. Available columns: ['latitude', 'longitude', 'brightness', 'scan', 'track', 'acq_date', 'acq_time', 'satellite', 'instrument', 'confidence', 'version', 'bright_t31', 'frp', 'daynight', 'bright_ti4', 'bright_ti5', 'type', 'year', 'month', 'temperature_30d', 'temperature_15d', 'temperature_7d', 'temperature', 'wind_speed_30d', 'wind_speed_15d', 'wind_speed_7d', 'wind_speed', 'humidity_30d', 'humidity_15d', 'humidity_7d', 'humidity', 'precipitation_30d', 'precipitation_15d', 'precipitation_7d', 'precipitation', 'fire_size', 'state', 'discovery_month', 'putout_time', 'disc_pre_year', 'disc_pre_month', 'stat_cause_descr', 'Unnamed: 0', 'fire_name', 'fire_size_class', 'disc_clean_date', 'cont_clean_date', 'wstation_usaf']\n",
      "Merged dataset saved as 'final_merged_wildfire_structured_data.csv'\n"
     ]
    }
   ],
   "source": [
    "merged_file = \"final_merged_wildfire_structured_data.csv\"\n",
    "final_df.to_csv(merged_file, index=False)\n",
    "print(f\"Merged dataset saved as '{merged_file}'\")"
   ]
  }
 ],
 "metadata": {
  "kernelspec": {
   "display_name": "Python 3 (ipykernel)",
   "language": "python",
   "name": "python3"
  },
  "language_info": {
   "codemirror_mode": {
    "name": "ipython",
    "version": 3
   },
   "file_extension": ".py",
   "mimetype": "text/x-python",
   "name": "python",
   "nbconvert_exporter": "python",
   "pygments_lexer": "ipython3",
   "version": "3.11.11"
  }
 },
 "nbformat": 4,
 "nbformat_minor": 5
}
