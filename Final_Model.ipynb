{
 "cells": [
  {
   "cell_type": "markdown",
   "id": "d01cc8b2-f43e-4913-b8fc-7fbb6a9dc11b",
   "metadata": {},
   "source": [
    "# Step 1: Import Libraries"
   ]
  },
  {
   "cell_type": "code",
   "execution_count": null,
   "id": "65177b14-398c-42ef-a131-e146ddfb9cd5",
   "metadata": {},
   "outputs": [],
   "source": [
    "import pandas as pd\n",
    "import numpy as np\n",
    "import plotly.express as px\n",
    "import plotly.graph_objects as go\n",
    "from sklearn.model_selection import train_test_split\n",
    "from sklearn.ensemble import RandomForestClassifier\n",
    "from sklearn.metrics import accuracy_score, confusion_matrix, classification_report\n",
    "from sklearn.preprocessing import LabelEncoder\n",
    "from statsmodels.tsa.arima.model import ARIMA\n",
    "import warnings\n",
    "warnings.filterwarnings('ignore')\n"
   ]
  },
  {
   "cell_type": "markdown",
   "id": "e7db9d40-0300-49b1-945f-cf04a9949e25",
   "metadata": {},
   "source": [
    "# Step 1: Load and Preprocess Data"
   ]
  },
  {
   "cell_type": "code",
   "execution_count": null,
   "id": "07fa7f29-9805-431b-9cf3-b0659c01abe3",
   "metadata": {},
   "outputs": [],
   "source": [
    "spark = SparkSession.builder.appName('WildfirePredictionModel').getOrCreate()\n",
    "spark_df = spark.read.csv('hdfs://hdfs-container:8020/cleaned/final_merged_data.csv', header=True, inferSchema=True)\n",
    "df = spark_df.toPandas()\n",
    "df['acq_date'] = pd.to_datetime(df['acq_date'])\n",
    "df.head()\n"
   ]
  },
  {
   "cell_type": "markdown",
   "id": "e5594a00-6a1b-4f0b-be71-2a649584194b",
   "metadata": {},
   "source": [
    "#### Replace invalid values"
   ]
  },
  {
   "cell_type": "code",
   "execution_count": null,
   "id": "8a76d279-9af8-4c79-b077-0b757644dc8a",
   "metadata": {},
   "outputs": [],
   "source": [
    "replace_cols = [\n",
    "    'temperature', 'temperature_7d', 'temperature_15d', 'temperature_30d',\n",
    "    'precipitation', 'precipitation_7d', 'precipitation_15d', 'precipitation_30d',\n",
    "    'wind_speed', 'wind_speed_7d', 'wind_speed_15d', 'wind_speed_30d',\n",
    "    'humidity', 'humidity_7d', 'humidity_15d', 'humidity_30d'\n",
    "]\n",
    "df.replace(-1.0, np.nan, inplace=True)\n",
    "df.dropna(subset=replace_cols + ['latitude', 'longitude', 'frp'], inplace=True)\n"
   ]
  },
  {
   "cell_type": "markdown",
   "id": "319dd474-19d4-4555-bb8f-7e9a302138fd",
   "metadata": {},
   "source": [
    "# Step 2: Feature Engineering"
   ]
  },
  {
   "cell_type": "code",
   "execution_count": null,
   "id": "25ae72e0-0ead-4bda-a7fc-fa0f0081b3c2",
   "metadata": {},
   "outputs": [],
   "source": [
    "FRP_THRESHOLD = 15\n",
    "\n",
    "df['wildfire_label'] = np.where(df['frp'] >= FRP_THRESHOLD, 1, 0)\n",
    "\n",
    "le_daynight = LabelEncoder()\n",
    "le_state = LabelEncoder()\n",
    "df['daynight_enc'] = le_daynight.fit_transform(df['daynight'])\n",
    "df['state_enc'] = le_state.fit_transform(df['state'])"
   ]
  },
  {
   "cell_type": "markdown",
   "id": "7a6bfae5-2c31-4a01-b5b1-5c77b6e8546f",
   "metadata": {},
   "source": [
    " # Step 3: Machine Learning Model"
   ]
  },
  {
   "cell_type": "code",
   "execution_count": null,
   "id": "d8b7097e-eff0-42e6-b378-914790e638b9",
   "metadata": {},
   "outputs": [],
   "source": [
    "features = [\n",
    "    'latitude', 'longitude', 'confidence', 'daynight_enc', 'state_enc',\n",
    "    'temperature', 'temperature_7d', 'temperature_15d', 'temperature_30d',\n",
    "    'precipitation', 'precipitation_7d', 'precipitation_15d', 'precipitation_30d',\n",
    "    'wind_speed', 'wind_speed_7d', 'wind_speed_15d', 'wind_speed_30d',\n",
    "    'humidity', 'humidity_7d', 'humidity_15d', 'humidity_30d'\n",
    "]\n",
    "target = 'wildfire_label'\n",
    "\n",
    "X = df[features]\n",
    "y = df[target]\n",
    "X_train, X_test, y_train, y_test = train_test_split(X, y, test_size=0.2, random_state=42)\n",
    "\n",
    "model = RandomForestClassifier(n_estimators=100, random_state=42)\n",
    "model.fit(X_train, y_train)\n",
    "y_pred = model.predict(X_test)"
   ]
  },
  {
   "cell_type": "markdown",
   "id": "b8b0dfba-78b2-485e-aad2-5f51bb5eda16",
   "metadata": {},
   "source": [
    "# Step 4: Model Evaluation"
   ]
  },
  {
   "cell_type": "code",
   "execution_count": null,
   "id": "ddba297f-cd20-4489-abd4-9ea4e4d2cf67",
   "metadata": {},
   "outputs": [],
   "source": [
    "acc = accuracy_score(y_test, y_pred)\n",
    "cm = confusion_matrix(y_test, y_pred)\n",
    "cr = classification_report(y_test, y_pred)\n",
    "print(f\"Accuracy: {acc:.4f}\\n\")\n",
    "print(\"Classification Report:\\n\", cr)"
   ]
  },
  {
   "cell_type": "markdown",
   "id": "a7cdc8e9-f76d-4c1f-9bcd-22d502cfd225",
   "metadata": {},
   "source": [
    "# Step 5: Visualization of Predictions"
   ]
  },
  {
   "cell_type": "code",
   "execution_count": null,
   "id": "17a5350b-4eef-4da5-9148-be628864308d",
   "metadata": {},
   "outputs": [],
   "source": [
    "\n",
    "importances = model.feature_importances_\n",
    "feature_df = pd.DataFrame({\"feature\": features, \"importance\": importances}).sort_values(\"importance\", ascending=False)\n",
    "fig_feat_imp = px.bar(feature_df, x='importance', y='feature', orientation='h', title=\"Feature Importance for Wildfire Prediction\")\n",
    "fig_feat_imp.write_html(\"feature_importance.html\")\n",
    "\n",
    "fig_cm = px.imshow(cm, text_auto=True, labels=dict(x=\"Predicted\", y=\"Actual\", color=\"Count\"), x=[\"No Fire\", \"Fire\"], y=[\"No Fire\", \"Fire\"], title=\"Confusion Matrix\")\n",
    "fig_cm.write_html(\"confusion_matrix.html\")"
   ]
  },
  {
   "cell_type": "markdown",
   "id": "e82a3596-63da-4af0-95c0-0ffce78db473",
   "metadata": {},
   "source": [
    "#### Add Predictions back for visualization"
   ]
  },
  {
   "cell_type": "code",
   "execution_count": null,
   "id": "7589e270-8c33-4235-b18a-6643388eccab",
   "metadata": {},
   "outputs": [],
   "source": [
    "df_test = X_test.copy()\n",
    "df_test['predicted_fire'] = y_pred\n",
    "df_test['actual_fire'] = y_test\n",
    "df_test['latitude'] = df.loc[y_test.index, 'latitude']\n",
    "df_test['longitude'] = df.loc[y_test.index, 'longitude']\n",
    "df_test['acq_date'] = df.loc[y_test.index, 'acq_date']\n",
    "df_test['state'] = df.loc[y_test.index, 'state']\n",
    "df_test['confidence'] = df.loc[y_test.index, 'confidence']\n",
    "\n",
    "fig_map = px.scatter_map(\n",
    "    df_test,\n",
    "    lat=\"latitude\",\n",
    "    lon=\"longitude\",\n",
    "    color=\"predicted_fire\",\n",
    "    hover_data=[\"state\", \"confidence\", \"actual_fire\"],\n",
    "    title=\"Wildfire Prediction Across US\",\n",
    "    color_continuous_scale=['blue', 'red'],\n",
    "    zoom=3\n",
    ")\n",
    "fig_map.write_html(\"wildfire_predictions_map.html\")"
   ]
  },
  {
   "cell_type": "markdown",
   "id": "81eaf404-70cb-4c44-a761-16cdc88be60b",
   "metadata": {},
   "source": [
    "#### Temperature vs Confidence colored by fire prediction"
   ]
  },
  {
   "cell_type": "code",
   "execution_count": null,
   "id": "6376f88b-ba52-4d63-9317-2ef6e56371a5",
   "metadata": {},
   "outputs": [],
   "source": [
    "fig_temp = px.scatter(\n",
    "    df_test,\n",
    "    x=\"temperature\",\n",
    "    y=\"confidence\",\n",
    "    color=\"predicted_fire\",\n",
    "    hover_data=[\"state\"],\n",
    "    title=\"Temperature vs Confidence (Predicted Fire)\"\n",
    ")\n",
    "fig_temp.write_html(\"temperature_vs_fire.html\")"
   ]
  },
  {
   "cell_type": "markdown",
   "id": "644ca76a-a9f5-4dd4-b0c7-35ab431ff8d5",
   "metadata": {},
   "source": [
    "#### Confidence histogram"
   ]
  },
  {
   "cell_type": "code",
   "execution_count": null,
   "id": "150f1f2f-01ff-47c7-a127-e84680179b66",
   "metadata": {},
   "outputs": [],
   "source": [
    "fig_conf = px.histogram(\n",
    "    df_test,\n",
    "    x=\"confidence\",\n",
    "    color=\"predicted_fire\",\n",
    "    barmode=\"overlay\",\n",
    "    title=\"Confidence Distribution by Prediction\"\n",
    ")\n",
    "fig_conf.write_html(\"confidence_distribution.html\")"
   ]
  },
  {
   "cell_type": "markdown",
   "id": "34b29888-1b1b-4fe0-b2d1-d3e92b89044d",
   "metadata": {},
   "source": [
    "#### Pie chart: Day vs Night fire prediction"
   ]
  },
  {
   "cell_type": "code",
   "execution_count": null,
   "id": "0f79e3ab-742a-4aba-b80c-75ed4a581be5",
   "metadata": {},
   "outputs": [],
   "source": [
    "fig_pie = px.pie(\n",
    "    df.loc[y_test.index],\n",
    "    names=\"daynight\",\n",
    "    title=\"Day vs Night Wildfire Predictions\"\n",
    ")\n",
    "fig_pie.write_html(\"daynight_predictions.html\")"
   ]
  },
  {
   "cell_type": "markdown",
   "id": "c73d062c-1b97-4781-9aa6-4bf7d777d3b9",
   "metadata": {},
   "source": [
    "# Step 6: Future Trend Prediction using ARIMA (Monthly forecast 2025-2030)"
   ]
  },
  {
   "cell_type": "code",
   "execution_count": null,
   "id": "963a52d1-93e8-4919-baf2-58695bd67f7f",
   "metadata": {},
   "outputs": [],
   "source": [
    "df['month'] = df['acq_date'].dt.to_period('M')\n",
    "fires_monthly = df[df['wildfire_label'] == 1].groupby('month').size()\n",
    "fires_monthly.index = fires_monthly.index.to_timestamp()\n",
    "\n",
    "model_arima = ARIMA(fires_monthly, order=(2, 1, 2))\n",
    "model_fit = model_arima.fit()\n",
    "future_steps = 72  # 6 years\n",
    "forecast = model_fit.forecast(steps=future_steps)\n",
    "\n",
    "future_months = pd.date_range(start='2025-01-01', periods=future_steps, freq='MS')"
   ]
  },
  {
   "cell_type": "markdown",
   "id": "66efce59-9dbb-4ceb-a377-34819bdf8314",
   "metadata": {},
   "source": [
    "#### Historical wildfires monthly"
   ]
  },
  {
   "cell_type": "code",
   "execution_count": null,
   "id": "7950ea81-1713-40e4-bf3e-0a1f076d194a",
   "metadata": {},
   "outputs": [],
   "source": [
    "sampled_locs = df[df['wildfire_label'] == 1][['latitude', 'longitude']].sample(n=future_steps, replace=True, random_state=42).reset_index(drop=True)\n",
    "forecast_df = pd.DataFrame({\n",
    "    \"Month\": future_months,\n",
    "    \"Forecasted_Fires\": forecast.values,\n",
    "    \"Latitude\": sampled_locs['latitude'],\n",
    "    \"Longitude\": sampled_locs['longitude']\n",
    "})"
   ]
  },
  {
   "cell_type": "markdown",
   "id": "d22e4f12-5eac-4a3d-9d96-3ae6691f6db2",
   "metadata": {},
   "source": [
    "#### Generated Future Forecasted Data"
   ]
  },
  {
   "cell_type": "code",
   "execution_count": null,
   "id": "e1c7ec76-14b8-488d-950a-8230ea45eee8",
   "metadata": {},
   "outputs": [],
   "source": [
    "forecast_df.to_csv(\"future_wildfire_forecast.csv\", index=False)"
   ]
  },
  {
   "cell_type": "markdown",
   "id": "dff0ebb4-4c99-4820-b513-27fed6f346c0",
   "metadata": {},
   "source": [
    "#### wildfire future trend forecast"
   ]
  },
  {
   "cell_type": "code",
   "execution_count": null,
   "id": "aede1480-451f-497a-af47-1e6b7181e794",
   "metadata": {},
   "outputs": [],
   "source": [
    "fig_forecast = go.Figure()\n",
    "fig_forecast.add_trace(go.Scatter(x=fires_monthly.index, y=fires_monthly.values, mode='lines', name='Actual Fires'))\n",
    "fig_forecast.add_trace(go.Scatter(x=forecast_df['Month'], y=forecast_df['Forecasted_Fires'], mode='lines', name='Forecasted Fires'))\n",
    "fig_forecast.update_layout(title=\"Wildfire Monthly Forecast (2025-2030)\", xaxis_title=\"Date\", yaxis_title=\"Wildfires\")\n",
    "fig_forecast.write_html(\"wildfire_future_trend_forecast.html\")"
   ]
  },
  {
   "cell_type": "markdown",
   "id": "0d95f9ff-02a7-4ee9-9b39-87aad96dc6e5",
   "metadata": {},
   "source": [
    "#### US Choropleth Map for Predicted Future Fires (By State)"
   ]
  },
  {
   "cell_type": "code",
   "execution_count": null,
   "id": "2003639a-9745-4df3-a16f-d3203c15de42",
   "metadata": {},
   "outputs": [],
   "source": [
    "state_summary = df.groupby('state').agg({'wildfire_label': 'sum'}).reset_index()\n",
    "fig_state_map = px.choropleth(\n",
    "    state_summary,\n",
    "    locations='state',\n",
    "    locationmode=\"USA-states\",\n",
    "    color='wildfire_label',\n",
    "    scope=\"usa\",\n",
    "    title=\"Total Wildfires per US State (Historical Data)\"\n",
    ")\n",
    "fig_state_map.write_html(\"wildfire_us_state_map.html\")"
   ]
  },
  {
   "cell_type": "markdown",
   "id": "14787482-7413-4d43-90ec-cad4ae807d67",
   "metadata": {},
   "source": [
    "#### Map for Future Forecasted Wildfires"
   ]
  },
  {
   "cell_type": "code",
   "execution_count": 5,
   "id": "f60a832b-ea44-4173-b02d-eed998f1d941",
   "metadata": {},
   "outputs": [
    {
     "name": "stdout",
     "output_type": "stream",
     "text": [
      "Accuracy: 0.8370\n",
      "\n",
      "Classification Report:\n",
      "               precision    recall  f1-score   support\n",
      "\n",
      "           0       0.82      0.87      0.85     24115\n",
      "           1       0.85      0.80      0.83     22538\n",
      "\n",
      "    accuracy                           0.84     46653\n",
      "   macro avg       0.84      0.84      0.84     46653\n",
      "weighted avg       0.84      0.84      0.84     46653\n",
      "\n",
      "✅ Completed all steps including forecasted wildfire map with lat/lon!\n"
     ]
    }
   ],
   "source": [
    "fig_future_map = px.scatter_mapbox(\n",
    "    forecast_df,\n",
    "    lat=\"Latitude\",\n",
    "    lon=\"Longitude\",\n",
    "    color=\"Forecasted_Fires\",\n",
    "    size=\"Forecasted_Fires\",\n",
    "    color_continuous_scale=\"OrRd\",\n",
    "    hover_data=[\"Month\"],\n",
    "    zoom=3,\n",
    "    title=\"Forecasted Wildfires (2025–2030)\"\n",
    ")\n",
    "fig_future_map.update_layout(mapbox_style=\"open-street-map\")\n",
    "fig_future_map.write_html(\"wildfire_future_map.html\")\n",
    "\n",
    "print(\"✅ Completed all steps including forecasted wildfire map with lat/lon!\")"
   ]
  }
 ],
 "metadata": {
  "kernelspec": {
   "display_name": "Python 3 (ipykernel)",
   "language": "python",
   "name": "python3"
  },
  "language_info": {
   "codemirror_mode": {
    "name": "ipython",
    "version": 3
   },
   "file_extension": ".py",
   "mimetype": "text/x-python",
   "name": "python",
   "nbconvert_exporter": "python",
   "pygments_lexer": "ipython3",
   "version": "3.11.11"
  }
 },
 "nbformat": 4,
 "nbformat_minor": 5
}
