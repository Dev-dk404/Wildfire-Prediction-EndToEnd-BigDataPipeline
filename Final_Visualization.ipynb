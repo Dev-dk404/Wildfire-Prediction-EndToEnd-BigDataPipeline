{
 "cells": [
  {
   "cell_type": "markdown",
   "id": "b6fc5207-e873-4b94-affd-ce4bd75a68e1",
   "metadata": {},
   "source": [
    "# Step 1: Import Libraries"
   ]
  },
  {
   "cell_type": "code",
   "execution_count": null,
   "id": "d7352634-7387-485c-8256-10b3aec66284",
   "metadata": {},
   "outputs": [],
   "source": [
    "import pandas as pd\n",
    "import plotly.express as px"
   ]
  },
  {
   "cell_type": "markdown",
   "id": "1783ed62-fc8b-483f-af12-3a74c4b09e4f",
   "metadata": {},
   "source": [
    "# Step 2: Load and Prepare Data"
   ]
  },
  {
   "cell_type": "code",
   "execution_count": null,
   "id": "64c3810d-521f-434d-bcb5-3f635a754b82",
   "metadata": {},
   "outputs": [],
   "source": [
    "file_path = 'final_merged_wildfire_structured_data.csv'  \n",
    "df = pd.read_csv(file_path)"
   ]
  },
  {
   "cell_type": "markdown",
   "id": "6de4495e-9243-47e8-afbf-b496768f2a95",
   "metadata": {},
   "source": [
    "#### Data Cleaning (ETL-like handling)"
   ]
  },
  {
   "cell_type": "code",
   "execution_count": null,
   "id": "08b130cf-041e-479b-8de2-2b246dafb73e",
   "metadata": {},
   "outputs": [],
   "source": [
    "df['acq_date'] = pd.to_datetime(df['acq_date'], errors='coerce')\n",
    "columns_with_invalids = [\n",
    "    'temperature', 'temperature_7d', 'temperature_15d', 'temperature_30d',\n",
    "    'precipitation', 'precipitation_7d', 'precipitation_15d', 'precipitation_30d',\n",
    "    'wind_speed', 'wind_speed_7d', 'wind_speed_15d', 'wind_speed_30d',\n",
    "    'humidity', 'humidity_7d', 'humidity_15d', 'humidity_30d'\n",
    "]\n",
    "for col in columns_with_invalids:\n",
    "    df[col] = df[col].replace(-1.0, pd.NA)\n",
    "\n",
    "df = df.dropna(subset=['latitude', 'longitude', 'frp']).reset_index(drop=True)\n"
   ]
  },
  {
   "cell_type": "markdown",
   "id": "cc807c69-358a-46f6-b922-2f030963f152",
   "metadata": {},
   "source": [
    "# Step 3: Professional Presentation Plots"
   ]
  },
  {
   "cell_type": "markdown",
   "id": "19d5dc15-511d-4027-86ad-13bb90356dea",
   "metadata": {},
   "source": [
    "#### 1. Wildfire Locations by FRP (Map)"
   ]
  },
  {
   "cell_type": "code",
   "execution_count": null,
   "id": "2240920b-dd65-4289-bd11-97b7577d97f1",
   "metadata": {},
   "outputs": [],
   "source": [
    "fig1 = px.scatter_mapbox(\n",
    "    df,\n",
    "    lat=\"latitude\",\n",
    "    lon=\"longitude\",\n",
    "    color=\"frp\",\n",
    "    size=\"frp\",\n",
    "    color_continuous_scale=px.colors.cyclical.IceFire,\n",
    "    size_max=15,\n",
    "    zoom=3,\n",
    "    hover_data=[\"acq_date\", \"state\", \"confidence\"],\n",
    "    title=\"Wildfire Fire Radiative Power (FRP) by Location\"\n",
    ")\n",
    "fig1.update_layout(mapbox_style=\"open-street-map\")\n",
    "fig1.write_html(\"presentation_plot1_wildfire_map.html\")"
   ]
  },
  {
   "cell_type": "markdown",
   "id": "9c4a8c8d-33aa-425a-847d-decca2bea1d5",
   "metadata": {},
   "source": [
    "#### 2. FRP Trends Over Time (Line Chart)"
   ]
  },
  {
   "cell_type": "code",
   "execution_count": null,
   "id": "78072668-2bee-42aa-a274-d2d3317e0490",
   "metadata": {},
   "outputs": [],
   "source": [
    "frp_time_df = df.groupby('acq_date')['frp'].mean().reset_index()\n",
    "fig2 = px.line(\n",
    "    frp_time_df,\n",
    "    x='acq_date',\n",
    "    y='frp',\n",
    "    title='Average Fire Radiative Power (FRP) Over Time',\n",
    "    labels={'frp': 'Average FRP', 'acq_date': 'Acquisition Date'}\n",
    ")\n",
    "fig2.write_html(\"presentation_plot2_frp_time_series.html\")\n"
   ]
  },
  {
   "cell_type": "markdown",
   "id": "3a94214b-fa97-4002-95d8-0eb8eba05694",
   "metadata": {},
   "source": [
    "#### 3. Temperature vs FRP Scatter (Confidence as Size)"
   ]
  },
  {
   "cell_type": "code",
   "execution_count": null,
   "id": "f8f0836f-792d-4752-b205-7dd35fefae5a",
   "metadata": {},
   "outputs": [],
   "source": [
    "fig3 = px.scatter(\n",
    "    df,\n",
    "    x=\"temperature\",\n",
    "    y=\"frp\",\n",
    "    size=\"confidence\",\n",
    "    color=\"state\",\n",
    "    hover_data=[\"acq_date\", \"daynight\"],\n",
    "    title=\"Temperature vs Fire Radiative Power (FRP) with Detection Confidence\"\n",
    ")\n",
    "fig3.write_html(\"presentation_plot3_temp_vs_frp_scatter.html\")"
   ]
  },
  {
   "cell_type": "markdown",
   "id": "1179b7e1-a37b-458f-bb0c-3165e147f16f",
   "metadata": {},
   "source": [
    "#### 4. Fire Detection Confidence Distribution (Histogram)"
   ]
  },
  {
   "cell_type": "code",
   "execution_count": null,
   "id": "5949f9f1-36ae-4103-8e50-017e670d0f76",
   "metadata": {},
   "outputs": [],
   "source": [
    "fig4 = px.histogram(\n",
    "    df,\n",
    "    x=\"confidence\",\n",
    "    nbins=30,\n",
    "    title=\"Distribution of Fire Detection Confidence Levels\",\n",
    "    labels={'confidence': 'Detection Confidence (%)'},\n",
    "    color_discrete_sequence=[\"indianred\"]\n",
    ")\n",
    "fig4.write_html(\"presentation_plot4_confidence_histogram.html\")"
   ]
  },
  {
   "cell_type": "markdown",
   "id": "c4f6dd7b-af20-4945-b0fd-c4fcec69f4ed",
   "metadata": {},
   "source": [
    "#### 5. Day vs Night Fire Detection (Pie Chart)"
   ]
  },
  {
   "cell_type": "code",
   "execution_count": null,
   "id": "330e4287-c915-4c41-bd3c-f54e01070e1f",
   "metadata": {},
   "outputs": [],
   "source": [
    "fig5 = px.pie(\n",
    "    df,\n",
    "    names=\"daynight\",\n",
    "    title=\"Day vs Night Wildfire Detections\",\n",
    "    color_discrete_sequence=px.colors.sequential.RdBu\n",
    ")\n",
    "fig5.write_html(\"presentation_plot5_day_vs_night_pie.html\")"
   ]
  },
  {
   "cell_type": "code",
   "execution_count": 7,
   "id": "4e28a673-59aa-4375-9b9d-47ee7d368f69",
   "metadata": {},
   "outputs": [
    {
     "name": "stderr",
     "output_type": "stream",
     "text": [
      "C:\\Users\\tw9520gi\\AppData\\Local\\Temp\\ipykernel_46604\\3292716535.py:24: DeprecationWarning:\n",
      "\n",
      "*scatter_mapbox* is deprecated! Use *scatter_map* instead. Learn more at: https://plotly.com/python/mapbox-to-maplibre/\n",
      "\n"
     ]
    },
    {
     "name": "stdout",
     "output_type": "stream",
     "text": [
      "✅ All 5 high-value presentation plots created and saved as HTML!\n"
     ]
    }
   ],
   "source": [
    "print(\"✅ All 5 high-value presentation plots created and saved as HTML!\")"
   ]
  }
 ],
 "metadata": {
  "kernelspec": {
   "display_name": "Python 3 (ipykernel)",
   "language": "python",
   "name": "python3"
  },
  "language_info": {
   "codemirror_mode": {
    "name": "ipython",
    "version": 3
   },
   "file_extension": ".py",
   "mimetype": "text/x-python",
   "name": "python",
   "nbconvert_exporter": "python",
   "pygments_lexer": "ipython3",
   "version": "3.11.11"
  }
 },
 "nbformat": 4,
 "nbformat_minor": 5
}
